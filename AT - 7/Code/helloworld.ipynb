{
 "cells": [
  {
   "cell_type": "markdown",
   "metadata": {
    "id": "hdTUiefl2ZHh"
   },
   "source": [
    "# New Header"
   ]
  },
  {
   "cell_type": "code",
   "execution_count": 6,
   "metadata": {
    "colab": {
     "base_uri": "https://localhost:8080/"
    },
    "executionInfo": {
     "elapsed": 338,
     "status": "ok",
     "timestamp": 1630978221372,
     "user": {
      "displayName": "RARASMAYA INDRASWARI",
      "photoUrl": "",
      "userId": "02278295251420547997"
     },
     "user_tz": -420
    },
    "id": "i47UrKe41B3X",
    "outputId": "a485881f-9cc5-4322-f754-d754d82edddb"
   },
   "outputs": [
    {
     "name": "stdout",
     "output_type": "stream",
     "text": [
      "Hello World\n"
     ]
    }
   ],
   "source": [
    "print('Hello World')"
   ]
  },
  {
   "cell_type": "markdown",
   "metadata": {
    "id": "GEHtnb132LVj"
   },
   "source": [
    "# Example of text block"
   ]
  },
  {
   "cell_type": "code",
   "execution_count": 4,
   "metadata": {
    "colab": {
     "base_uri": "https://localhost:8080/"
    },
    "executionInfo": {
     "elapsed": 9,
     "status": "ok",
     "timestamp": 1630977947033,
     "user": {
      "displayName": "RARASMAYA INDRASWARI",
      "photoUrl": "",
      "userId": "02278295251420547997"
     },
     "user_tz": -420
    },
    "id": "_MpYEKoH2F9h",
    "outputId": "7048d17e-3a92-4420-d576-ed09930d8f4f"
   },
   "outputs": [
    {
     "name": "stdout",
     "output_type": "stream",
     "text": [
      "Test\n"
     ]
    }
   ],
   "source": [
    "print ('Test')"
   ]
  }
 ],
 "metadata": {
  "colab": {
   "authorship_tag": "ABX9TyOd+WV06J1tOsnQOTF/U2I8",
   "name": "helloworld.ipynb",
   "provenance": [],
   "toc_visible": true
  },
  "kernelspec": {
   "display_name": "Python 3",
   "language": "python",
   "name": "python3"
  },
  "language_info": {
   "codemirror_mode": {
    "name": "ipython",
    "version": 3
   },
   "file_extension": ".py",
   "mimetype": "text/x-python",
   "name": "python",
   "nbconvert_exporter": "python",
   "pygments_lexer": "ipython3",
   "version": "3.8.3"
  }
 },
 "nbformat": 4,
 "nbformat_minor": 1
}
