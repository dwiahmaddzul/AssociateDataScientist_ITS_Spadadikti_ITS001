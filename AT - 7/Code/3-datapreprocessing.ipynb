{
 "cells": [
  {
   "cell_type": "markdown",
   "metadata": {
    "id": "e_HEaJ8-ZNMf"
   },
   "source": [
    "# Data Preprocessing"
   ]
  },
  {
   "cell_type": "markdown",
   "metadata": {
    "id": "FYvVNeccYCer"
   },
   "source": [
    "Connect Colab with Drive and read the dataset.\n",
    "\n",
    "Adult dataset originating from: https://www.kaggle.com/wenruliu/adult-income-dataset"
   ]
  },
  {
   "cell_type": "code",
   "execution_count": 3,
   "metadata": {
    "colab": {
     "base_uri": "https://localhost:8080/"
    },
    "executionInfo": {
     "elapsed": 19531,
     "status": "ok",
     "timestamp": 1631586908278,
     "user": {
      "displayName": "RARASMAYA INDRASWARI",
      "photoUrl": "https://lh3.googleusercontent.com/a/default-user=s64",
      "userId": "02278295251420547997"
     },
     "user_tz": -420
    },
    "id": "rlUWlF0QYBnV",
    "outputId": "81ac1e3c-5ca5-4833-e4ed-1ba69b28c985"
   },
   "outputs": [
    {
     "name": "stdout",
     "output_type": "stream",
     "text": [
      "Mounted at /content/drive\n",
      "['id', 'age', 'workclass', 'fnlwgt', 'education', 'educational-num', 'marital-status', 'occupation', 'relationship', 'race', 'gender', 'capital-gain', 'capital-loss', 'hours-per-week', 'native-country', 'income']\n"
     ]
    }
   ],
   "source": [
    "# import library\n",
    "import pandas as pd\n",
    "\n",
    "# connect with drive\n",
    "from google.colab import drive\n",
    "drive.mount('/content/drive')\n",
    "\n",
    "# read dataset\n",
    "datapath = r'drive/My Drive/Mengajar/Analitika Bisnis/Code/Dataset/3-2 Adult-edit.csv'\n",
    "data = pd.read_csv(datapath)\n",
    "\n",
    "print(data.columns.tolist())"
   ]
  },
  {
   "cell_type": "markdown",
   "metadata": {
    "id": "cKHFJF2KfzF1"
   },
   "source": [
    "#Delete unrelated attributes"
   ]
  },
  {
   "cell_type": "markdown",
   "metadata": {
    "id": "nIIu2YS1YtAy"
   },
   "source": [
    "Delete column --> Column 'ID'"
   ]
  },
  {
   "cell_type": "code",
   "execution_count": 4,
   "metadata": {
    "colab": {
     "base_uri": "https://localhost:8080/"
    },
    "executionInfo": {
     "elapsed": 270,
     "status": "ok",
     "timestamp": 1631586910241,
     "user": {
      "displayName": "RARASMAYA INDRASWARI",
      "photoUrl": "https://lh3.googleusercontent.com/a/default-user=s64",
      "userId": "02278295251420547997"
     },
     "user_tz": -420
    },
    "id": "FGdMM8oOYwho",
    "outputId": "75cefc65-4f03-43fb-a903-3b7c09676446"
   },
   "outputs": [
    {
     "name": "stdout",
     "output_type": "stream",
     "text": [
      "['age', 'workclass', 'fnlwgt', 'education', 'educational-num', 'marital-status', 'occupation', 'relationship', 'race', 'gender', 'capital-gain', 'capital-loss', 'hours-per-week', 'native-country', 'income']\n"
     ]
    }
   ],
   "source": [
    "data.drop('id', axis=1, inplace=True)\n",
    "\n",
    "print(data.columns.tolist())\n"
   ]
  },
  {
   "cell_type": "markdown",
   "metadata": {
    "id": "C-mNkj_4dYUy"
   },
   "source": [
    "#Task 1\n",
    "Drop another unrelated attributes\n",
    "fnlwgt is dropped because the meaning is unclear and seems to be random\n",
    "gender is dropped because it doesn't affect the income of a person, the think that affect income the most is the occupation"
   ]
  },
  {
   "cell_type": "code",
   "execution_count": null,
   "metadata": {
    "id": "_DnIszB3dg44"
   },
   "outputs": [],
   "source": [
    "#Answer for Task 1\n"
   ]
  },
  {
   "cell_type": "markdown",
   "metadata": {
    "id": "GZQkGyY_ZCtv"
   },
   "source": [
    "#Missing Value"
   ]
  },
  {
   "cell_type": "markdown",
   "metadata": {
    "id": "vIrjyvD_f9w2"
   },
   "source": [
    "Checking null value"
   ]
  },
  {
   "cell_type": "code",
   "execution_count": 7,
   "metadata": {
    "colab": {
     "base_uri": "https://localhost:8080/"
    },
    "executionInfo": {
     "elapsed": 376,
     "status": "ok",
     "timestamp": 1631586976544,
     "user": {
      "displayName": "RARASMAYA INDRASWARI",
      "photoUrl": "https://lh3.googleusercontent.com/a/default-user=s64",
      "userId": "02278295251420547997"
     },
     "user_tz": -420
    },
    "id": "vPEVc9vxfjk_",
    "outputId": "f0c535f3-335b-48bb-c17d-c2147950c4d2"
   },
   "outputs": [
    {
     "name": "stdout",
     "output_type": "stream",
     "text": [
      "True\n"
     ]
    }
   ],
   "source": [
    "#Checking if there is null in a column\n",
    "check_for_nan = data['capital-loss'].isnull().values.any()\n",
    "print(check_for_nan)"
   ]
  },
  {
   "cell_type": "code",
   "execution_count": 10,
   "metadata": {
    "colab": {
     "base_uri": "https://localhost:8080/"
    },
    "executionInfo": {
     "elapsed": 286,
     "status": "ok",
     "timestamp": 1631587070891,
     "user": {
      "displayName": "RARASMAYA INDRASWARI",
      "photoUrl": "https://lh3.googleusercontent.com/a/default-user=s64",
      "userId": "02278295251420547997"
     },
     "user_tz": -420
    },
    "id": "sOmseOhXZHiL",
    "outputId": "4d728532-e465-41a5-ebdc-a9b33a31e06e"
   },
   "outputs": [
    {
     "data": {
      "text/plain": [
       "age                   0\n",
       "workclass          2799\n",
       "fnlwgt                0\n",
       "education             0\n",
       "educational-num      12\n",
       "marital-status        0\n",
       "occupation         2809\n",
       "relationship          0\n",
       "race                  0\n",
       "gender                0\n",
       "capital-gain         20\n",
       "capital-loss         10\n",
       "hours-per-week        0\n",
       "native-country      857\n",
       "income                0\n",
       "dtype: int64"
      ]
     },
     "execution_count": 10,
     "metadata": {},
     "output_type": "execute_result"
    }
   ],
   "source": [
    "#Checking the number of null in an entire dataset\n",
    "data.isnull().sum()"
   ]
  },
  {
   "cell_type": "markdown",
   "metadata": {
    "id": "A5X99uZzgBQd"
   },
   "source": [
    "Replace null value with the average value of the attribute"
   ]
  },
  {
   "cell_type": "code",
   "execution_count": 11,
   "metadata": {
    "colab": {
     "base_uri": "https://localhost:8080/"
    },
    "executionInfo": {
     "elapsed": 1162,
     "status": "ok",
     "timestamp": 1631587179327,
     "user": {
      "displayName": "RARASMAYA INDRASWARI",
      "photoUrl": "https://lh3.googleusercontent.com/a/default-user=s64",
      "userId": "02278295251420547997"
     },
     "user_tz": -420
    },
    "id": "232k83CygIZU",
    "outputId": "203d3312-f3a7-411d-ef2f-9b8575bd365b"
   },
   "outputs": [
    {
     "name": "stdout",
     "output_type": "stream",
     "text": [
      "10.078353471226706\n",
      "10\n"
     ]
    },
    {
     "data": {
      "text/plain": [
       "age                   0\n",
       "workclass          2799\n",
       "fnlwgt                0\n",
       "education             0\n",
       "educational-num       0\n",
       "marital-status        0\n",
       "occupation         2809\n",
       "relationship          0\n",
       "race                  0\n",
       "gender                0\n",
       "capital-gain         20\n",
       "capital-loss         10\n",
       "hours-per-week        0\n",
       "native-country      857\n",
       "income                0\n",
       "dtype: int64"
      ]
     },
     "execution_count": 11,
     "metadata": {},
     "output_type": "execute_result"
    }
   ],
   "source": [
    "#Calculate the mean value\n",
    "print(data['educational-num'].mean())\n",
    "\n",
    "#If the value should be discrete, round it\n",
    "print(round(data['educational-num'].mean()))\n",
    "\n",
    "#Replace the null\n",
    "data.loc[(data['educational-num'].isnull()==True),'educational-num']= round(data['educational-num'].mean())\n",
    "\n",
    "data.isnull().sum()"
   ]
  },
  {
   "cell_type": "markdown",
   "metadata": {
    "id": "zOvC5iCviXNL"
   },
   "source": [
    "Replace null value with the mode value of the attribute"
   ]
  },
  {
   "cell_type": "code",
   "execution_count": 15,
   "metadata": {
    "colab": {
     "base_uri": "https://localhost:8080/"
    },
    "executionInfo": {
     "elapsed": 301,
     "status": "ok",
     "timestamp": 1631587747147,
     "user": {
      "displayName": "RARASMAYA INDRASWARI",
      "photoUrl": "https://lh3.googleusercontent.com/a/default-user=s64",
      "userId": "02278295251420547997"
     },
     "user_tz": -420
    },
    "id": "3HjT4ssSibZl",
    "outputId": "62503271-9c05-49d4-ca69-8194ef0d6b92"
   },
   "outputs": [
    {
     "name": "stdout",
     "output_type": "stream",
     "text": [
      "0.0\n",
      "0\n"
     ]
    },
    {
     "data": {
      "text/plain": [
       "age                   0\n",
       "workclass          2799\n",
       "fnlwgt                0\n",
       "education             0\n",
       "educational-num       0\n",
       "marital-status        0\n",
       "occupation         2809\n",
       "relationship          0\n",
       "race                  0\n",
       "gender                0\n",
       "capital-gain         20\n",
       "capital-loss          0\n",
       "hours-per-week        0\n",
       "native-country      857\n",
       "income                0\n",
       "dtype: int64"
      ]
     },
     "execution_count": 15,
     "metadata": {},
     "output_type": "execute_result"
    }
   ],
   "source": [
    "#Calculate the mode value\n",
    "print(data['capital-loss'].mode()[0])\n",
    "\n",
    "#If the value should be discrete, round it\n",
    "print(round(data['capital-loss'].mode()[0]))\n",
    "\n",
    "#Replace the null\n",
    "data.loc[(data['capital-loss'].isnull()==True),'capital-loss']= round(data['capital-loss'].mode()[0])\n",
    "\n",
    "data.isnull().sum()"
   ]
  },
  {
   "cell_type": "markdown",
   "metadata": {
    "id": "G0-m_DUAjVTa"
   },
   "source": [
    "#Task 2\n",
    "Fill the missing value of attribute 'capital-gain'"
   ]
  },
  {
   "cell_type": "code",
   "execution_count": null,
   "metadata": {
    "id": "PiWn39f8jbXo"
   },
   "outputs": [],
   "source": [
    "#Answer for Task 2\n"
   ]
  },
  {
   "cell_type": "markdown",
   "metadata": {
    "id": "paUDUsh8jhGP"
   },
   "source": [
    "#Convert String to Numeric"
   ]
  },
  {
   "cell_type": "code",
   "execution_count": 21,
   "metadata": {
    "colab": {
     "base_uri": "https://localhost:8080/"
    },
    "executionInfo": {
     "elapsed": 295,
     "status": "ok",
     "timestamp": 1631588732856,
     "user": {
      "displayName": "RARASMAYA INDRASWARI",
      "photoUrl": "https://lh3.googleusercontent.com/a/default-user=s64",
      "userId": "02278295251420547997"
     },
     "user_tz": -420
    },
    "id": "7TTs1jAKjl-_",
    "outputId": "8445d585-1ae2-418f-9758-160f3e6c34ea"
   },
   "outputs": [
    {
     "name": "stdout",
     "output_type": "stream",
     "text": [
      "       age     workclass  ...  capital-loss  hours-per-week\n",
      "0       25       Private  ...           0.0              40\n",
      "1       38       Private  ...           0.0              50\n",
      "2       28     Local-gov  ...           0.0              40\n",
      "3       44       Private  ...           0.0              40\n",
      "4       18           NaN  ...           0.0              30\n",
      "...    ...           ...  ...           ...             ...\n",
      "48837   27       Private  ...           0.0              38\n",
      "48838   40       Private  ...           0.0              40\n",
      "48839   58       Private  ...           0.0              40\n",
      "48840   22       Private  ...           0.0              20\n",
      "48841   52  Self-emp-inc  ...           0.0              40\n",
      "\n",
      "[48842 rows x 6 columns]\n",
      "       age  workclass  ...  capital-loss  hours-per-week\n",
      "0       25          0  ...           0.0              40\n",
      "1       38          0  ...           0.0              50\n",
      "2       28          1  ...           0.0              40\n",
      "3       44          0  ...           0.0              40\n",
      "4       18         -1  ...           0.0              30\n",
      "...    ...        ...  ...           ...             ...\n",
      "48837   27          0  ...           0.0              38\n",
      "48838   40          0  ...           0.0              40\n",
      "48839   58          0  ...           0.0              40\n",
      "48840   22          0  ...           0.0              20\n",
      "48841   52          5  ...           0.0              40\n",
      "\n",
      "[48842 rows x 6 columns]\n",
      "       age  workclass  ...  capital-loss  hours-per-week\n",
      "0       25        0.0  ...           0.0              40\n",
      "1       38        0.0  ...           0.0              50\n",
      "2       28        1.0  ...           0.0              40\n",
      "3       44        0.0  ...           0.0              40\n",
      "4       18        NaN  ...           0.0              30\n",
      "...    ...        ...  ...           ...             ...\n",
      "48837   27        0.0  ...           0.0              38\n",
      "48838   40        0.0  ...           0.0              40\n",
      "48839   58        0.0  ...           0.0              40\n",
      "48840   22        0.0  ...           0.0              20\n",
      "48841   52        5.0  ...           0.0              40\n",
      "\n",
      "[48842 rows x 6 columns]\n"
     ]
    }
   ],
   "source": [
    "print(data)\n",
    "\n",
    "#Convert the string label to numerical label\n",
    "data['workclass'] = pd.factorize(data['workclass'])[0]\n",
    "print(data)\n",
    "\n",
    "#Data with -1 value means null, so we need to revert it back to null\n",
    "import numpy as np\n",
    "\n",
    "data.loc[(data['workclass']==-1),'workclass']= np.NaN\n",
    "print(data)"
   ]
  },
  {
   "cell_type": "markdown",
   "metadata": {
    "id": "jmhojW2cmQQ8"
   },
   "source": [
    "#Task 3\n",
    "Convert all of the string label to numerical label"
   ]
  },
  {
   "cell_type": "code",
   "execution_count": null,
   "metadata": {
    "id": "4yYVbgYgmw9C"
   },
   "outputs": [],
   "source": [
    "#Answer for Task 3\n"
   ]
  },
  {
   "cell_type": "markdown",
   "metadata": {
    "id": "2_LjvVZsm3_G"
   },
   "source": [
    "#Task 4\n",
    "Replace the missing value from the categorical attributes"
   ]
  },
  {
   "cell_type": "code",
   "execution_count": null,
   "metadata": {
    "id": "ub_cQjLvm-bK"
   },
   "outputs": [],
   "source": []
  },
  {
   "cell_type": "markdown",
   "metadata": {
    "id": "-K13AAf3n--6"
   },
   "source": [
    "#Normalization\n",
    "Reference: https://machinelearningmastery.com/standardscaler-and-minmaxscaler-transforms-in-python/"
   ]
  },
  {
   "cell_type": "code",
   "execution_count": 28,
   "metadata": {
    "colab": {
     "base_uri": "https://localhost:8080/",
     "height": 548
    },
    "executionInfo": {
     "elapsed": 264,
     "status": "ok",
     "timestamp": 1631588871083,
     "user": {
      "displayName": "RARASMAYA INDRASWARI",
      "photoUrl": "https://lh3.googleusercontent.com/a/default-user=s64",
      "userId": "02278295251420547997"
     },
     "user_tz": -420
    },
    "id": "mRxE8wlVoAaL",
    "outputId": "b5c83eeb-e610-4e53-cab9-4f639882decc"
   },
   "outputs": [
    {
     "name": "stdout",
     "output_type": "stream",
     "text": [
      "       age  educational-num  capital-loss  hours-per-week\n",
      "0       25              7.0           0.0              40\n",
      "1       38              9.0           0.0              50\n",
      "2       28             12.0           0.0              40\n",
      "3       44             10.0           0.0              40\n",
      "4       18             10.0           0.0              30\n",
      "...    ...              ...           ...             ...\n",
      "48837   27             12.0           0.0              38\n",
      "48838   40              9.0           0.0              40\n",
      "48839   58              9.0           0.0              40\n",
      "48840   22              9.0           0.0              20\n",
      "48841   52              9.0           0.0              40\n",
      "\n",
      "[48842 rows x 4 columns]\n",
      "age                0\n",
      "educational-num    0\n",
      "capital-loss       0\n",
      "hours-per-week     0\n",
      "dtype: int64\n"
     ]
    },
    {
     "data": {
      "text/html": [
       "<div>\n",
       "<style scoped>\n",
       "    .dataframe tbody tr th:only-of-type {\n",
       "        vertical-align: middle;\n",
       "    }\n",
       "\n",
       "    .dataframe tbody tr th {\n",
       "        vertical-align: top;\n",
       "    }\n",
       "\n",
       "    .dataframe thead th {\n",
       "        text-align: right;\n",
       "    }\n",
       "</style>\n",
       "<table border=\"1\" class=\"dataframe\">\n",
       "  <thead>\n",
       "    <tr style=\"text-align: right;\">\n",
       "      <th></th>\n",
       "      <th>age</th>\n",
       "      <th>educational-num</th>\n",
       "      <th>capital-loss</th>\n",
       "      <th>hours-per-week</th>\n",
       "    </tr>\n",
       "  </thead>\n",
       "  <tbody>\n",
       "    <tr>\n",
       "      <th>0</th>\n",
       "      <td>0.109589</td>\n",
       "      <td>0.400000</td>\n",
       "      <td>0.0</td>\n",
       "      <td>0.397959</td>\n",
       "    </tr>\n",
       "    <tr>\n",
       "      <th>1</th>\n",
       "      <td>0.287671</td>\n",
       "      <td>0.533333</td>\n",
       "      <td>0.0</td>\n",
       "      <td>0.500000</td>\n",
       "    </tr>\n",
       "    <tr>\n",
       "      <th>2</th>\n",
       "      <td>0.150685</td>\n",
       "      <td>0.733333</td>\n",
       "      <td>0.0</td>\n",
       "      <td>0.397959</td>\n",
       "    </tr>\n",
       "    <tr>\n",
       "      <th>3</th>\n",
       "      <td>0.369863</td>\n",
       "      <td>0.600000</td>\n",
       "      <td>0.0</td>\n",
       "      <td>0.397959</td>\n",
       "    </tr>\n",
       "    <tr>\n",
       "      <th>4</th>\n",
       "      <td>0.013699</td>\n",
       "      <td>0.600000</td>\n",
       "      <td>0.0</td>\n",
       "      <td>0.295918</td>\n",
       "    </tr>\n",
       "  </tbody>\n",
       "</table>\n",
       "</div>"
      ],
      "text/plain": [
       "        age  educational-num  capital-loss  hours-per-week\n",
       "0  0.109589         0.400000           0.0        0.397959\n",
       "1  0.287671         0.533333           0.0        0.500000\n",
       "2  0.150685         0.733333           0.0        0.397959\n",
       "3  0.369863         0.600000           0.0        0.397959\n",
       "4  0.013699         0.600000           0.0        0.295918"
      ]
     },
     "execution_count": 28,
     "metadata": {},
     "output_type": "execute_result"
    }
   ],
   "source": [
    "#data.drop(columns=['fnlwgt', 'education', 'marital-status', 'occupation', 'relationship', 'race', 'gender', 'native-country', 'income'], axis=1, inplace=True)\n",
    "#data.drop('workclass', axis=1, inplace=True)\n",
    "#data.drop('capital-gain', axis=1, inplace=True)\n",
    "print(data)\n",
    "print(data.isnull().sum())\n",
    "\n",
    "from sklearn.preprocessing import StandardScaler, MinMaxScaler\n",
    "\n",
    "scaler = MinMaxScaler()           #use minimum & maximum value of attribute to scale the data\n",
    "#scaler = StandardScaler()       #use mean & standard deviation (Gaussian distribution) to scale the data\n",
    "\n",
    "#This is used for training data\n",
    "scaled_data = scaler.fit_transform(data) \n",
    "\n",
    "#For testing data, use transform() only because we don't neet to fit the scaler to the data anymore\n",
    "#Because we already fit the scaler to the train data so the scaler for the test data only follows the first one\n",
    "#scaled_test_data = scaler.transform(test_data) \n",
    "\n",
    "df = pd.DataFrame(scaled_data, columns = data.columns)\n",
    "df.head()"
   ]
  }
 ],
 "metadata": {
  "accelerator": "GPU",
  "colab": {
   "authorship_tag": "ABX9TyOOb7Ionl+9TLa7tIAGoPhf",
   "collapsed_sections": [],
   "name": "3-datapreprocessing",
   "provenance": []
  },
  "kernelspec": {
   "display_name": "Python 3",
   "language": "python",
   "name": "python3"
  },
  "language_info": {
   "codemirror_mode": {
    "name": "ipython",
    "version": 3
   },
   "file_extension": ".py",
   "mimetype": "text/x-python",
   "name": "python",
   "nbconvert_exporter": "python",
   "pygments_lexer": "ipython3",
   "version": "3.8.3"
  }
 },
 "nbformat": 4,
 "nbformat_minor": 1
}
