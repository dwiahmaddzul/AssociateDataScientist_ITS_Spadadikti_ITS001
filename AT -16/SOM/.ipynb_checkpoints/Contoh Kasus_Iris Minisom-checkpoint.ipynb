{
 "cells": [
  {
   "cell_type": "code",
   "execution_count": 1,
   "metadata": {},
   "outputs": [],
   "source": [
    "from minisom import MiniSom\n",
    "\n",
    "import numpy as np\n",
    "import matplotlib.pyplot as plt\n",
    "import pandas as pd\n",
    "%matplotlib inline"
   ]
  },
  {
   "cell_type": "code",
   "execution_count": 2,
   "metadata": {},
   "outputs": [
    {
     "name": "stdout",
     "output_type": "stream",
     "text": [
      "Training...\n",
      "\n",
      "...ready!\n"
     ]
    },
    {
     "data": {
      "text/plain": [
       "(150, 4)"
      ]
     },
     "execution_count": 2,
     "metadata": {},
     "output_type": "execute_result"
    }
   ],
   "source": [
    "data = np.genfromtxt('iris.csv', delimiter=',', usecols=(0, 1, 2, 3))\n",
    "# data normalization\n",
    "data = np.apply_along_axis(lambda x: x/np.linalg.norm(x), 1, data)\n",
    "\n",
    "# Initialization and training\n",
    "som = MiniSom(7, 7, 4, sigma=1.0, learning_rate=0.5)\n",
    "som.random_weights_init(data)\n",
    "print(\"Training...\")\n",
    "som.train_random(data, 100)  # random training\n",
    "print(\"\\n...ready!\")\n",
    "data.shape"
   ]
  },
  {
   "cell_type": "code",
   "execution_count": 3,
   "metadata": {},
   "outputs": [
    {
     "data": {
      "text/plain": [
       "<matplotlib.colorbar.Colorbar at 0x7f0ed4378358>"
      ]
     },
     "execution_count": 3,
     "metadata": {},
     "output_type": "execute_result"
    },
    {
     "data": {
      "image/png": "[encoded data removed]",
      "text/plain": [
       "<matplotlib.figure.Figure at 0x7f0ed6449cf8>"
      ]
     },
     "metadata": {},
     "output_type": "display_data"
    }
   ],
   "source": [
    "# Plotting the response for each pattern in the iris dataset\n",
    "plt.bone()\n",
    "plt.pcolor(som.distance_map().T)  # plotting the distance map as background\n",
    "plt.colorbar()"
   ]
  },
  {
   "cell_type": "code",
   "execution_count": 4,
   "metadata": {},
   "outputs": [],
   "source": [
    "target = np.genfromtxt('iris.csv', delimiter=',', usecols=(4), dtype=str)\n",
    "t = np.zeros(len(target), dtype=int)\n",
    "t[target == 'Iris-setosa'] = 0\n",
    "t[target == 'Iris-versicolor'] = 1\n",
    "t[target == 'Iris-virginica'] = 2"
   ]
  },
  {
   "cell_type": "code",
   "execution_count": 5,
   "metadata": {},
   "outputs": [
    {
     "data": {
      "image/png": "[encoded data removed]",
      "text/plain": [
       "<matplotlib.figure.Figure at 0x7f0f048ad1d0>"
      ]
     },
     "metadata": {},
     "output_type": "display_data"
    }
   ],
   "source": [
    "# use different colors and markers for each label\n",
    "markers = ['o', 's', 'D']\n",
    "colors = ['r', 'g', 'b'] # (red,iris-setosa),(green,iris-versicolor),(blue,iris-virginica)\n",
    "for cnt, xx in enumerate(data):\n",
    "    w = som.winner(xx)  # getting the winner\n",
    "    # palce a marker on the winning position for the sample xx\n",
    "    plt.plot(w[0]+.5, w[1]+.5, markers[t[cnt]], markerfacecolor='None',\n",
    "             markeredgecolor=colors[t[cnt]], markersize=12, markeredgewidth=2)\n",
    "    #print(t[cnt])\n",
    "plt.axis([0, 7, 0, 7])\n",
    "\n",
    "#colors = ('red' , 'green', 'blue')\n",
    "#markers = ('Iris-setosa','Iris-versicolor','Iris-virginica')\n",
    "\n",
    "#plt.legend(colors, markers)\n",
    "plt.show()"
   ]
  },
  {
   "cell_type": "code",
   "execution_count": null,
   "metadata": {},
   "outputs": [],
   "source": []
  }
 ],
 "metadata": {
  "kernelspec": {
   "display_name": "Python 3",
   "language": "python",
   "name": "python3"
  },
  "language_info": {
   "codemirror_mode": {
    "name": "ipython",
    "version": 3
   },
   "file_extension": ".py",
   "mimetype": "text/x-python",
   "name": "python",
   "nbconvert_exporter": "python",
   "pygments_lexer": "ipython3",
   "version": "3.5.2"
  }
 },
 "nbformat": 4,
 "nbformat_minor": 2
}
